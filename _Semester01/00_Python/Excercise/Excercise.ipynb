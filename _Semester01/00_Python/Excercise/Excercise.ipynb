{
 "metadata": {
  "language_info": {
   "codemirror_mode": {
    "name": "ipython",
    "version": 3
   },
   "file_extension": ".py",
   "mimetype": "text/x-python",
   "name": "python",
   "nbconvert_exporter": "python",
   "pygments_lexer": "ipython3",
   "version": "3.8.3"
  },
  "orig_nbformat": 2,
  "kernelspec": {
   "name": "python383jvsc74a57bd0a6c8cccf23fc189a51b8b2ae4ca3b98de763e12cce4f9033fe8d82721c91cecc",
   "display_name": "Python 3.8.3 64-bit ('base': conda)"
  }
 },
 "nbformat": 4,
 "nbformat_minor": 2,
 "cells": [
  {
   "source": [
    "Excercise"
   ],
   "cell_type": "markdown",
   "metadata": {}
  },
  {
   "source": [
    "1. Given a number, find the sum of its digits. Take the number as\n",
    "an input from the user."
   ],
   "cell_type": "markdown",
   "metadata": {}
  },
  {
   "cell_type": "code",
   "execution_count": 14,
   "metadata": {},
   "outputs": [
    {
     "output_type": "stream",
     "name": "stdout",
     "text": [
      "11\n"
     ]
    }
   ],
   "source": [
    "number  = input(\"Enter a number\")\n",
    "number = number.replace(\".\",\"\")\n",
    "total = 0\n",
    "try:\n",
    "    for character in number:\n",
    "        total = total + int(character)\n",
    "    print(total)\n",
    "except:\n",
    "    print(\"Enter a valid number\")\n"
   ]
  },
  {
   "source": [
    "2. Given a number, check whether the given number is an\n",
    "Armstrong number or not. A positive integer is called an\n",
    "Armstrong number of order n if:\n",
    "\n",
    "abcd... = a^n + b^n + c^n + d^n + ...\n",
    "\n",
    "Example: 153 = 1*1*1 + 5*5*5 + 3*3*3\n",
    "\n",
    "153 is an Armstrong number of order 3.\n",
    "Inputs from the user will be number and order n."
   ],
   "cell_type": "markdown",
   "metadata": {}
  },
  {
   "cell_type": "code",
   "execution_count": 30,
   "metadata": {},
   "outputs": [
    {
     "output_type": "stream",
     "name": "stdout",
     "text": [
      "Enter a valid integer\n"
     ]
    }
   ],
   "source": [
    "number  = input(\"Please enter an integer : \")\n",
    "order = int(input(\"Please input the Order: \"))\n",
    "sum_number = 0\n",
    "try:\n",
    "    for n in number:\n",
    "        sum_number = sum_number + (int(n))**order\n",
    "    if int(sum_number) == int(number):\n",
    "        print(number , \":\" , \"It is an armstrong number of the given order\")\n",
    "    else:\n",
    "        print(number, \":\" , \"Not an armstrong number of given order\")\n",
    "except:\n",
    "    print(\"Enter a valid integer\")"
   ]
  },
  {
   "source": [
    "3. Given a string, write a python function to check if it is\n",
    "palindrome or not. A string is said to be palindrome if the reverse\n",
    "of the string is the same as string. For example, “malayalam” is a\n",
    "palindrome, but “music” is not a palindrome."
   ],
   "cell_type": "markdown",
   "metadata": {}
  },
  {
   "cell_type": "code",
   "execution_count": 42,
   "metadata": {},
   "outputs": [
    {
     "output_type": "stream",
     "name": "stdout",
     "text": [
      "The string \"222\"is palindrome.\n"
     ]
    }
   ],
   "source": [
    "input_string = input(\"Enter a string : \")\n",
    "reversed_input = input_string[-1::-1]\n",
    "if input_string == reversed_input:\n",
    "    print(\"The string \" + '\"' + input_string + '\"' + \"is palindrome.\")\n",
    "else:\n",
    "    print(\"The string \" + '\"' + input_string + '\" is not palindrome.')"
   ]
  },
  {
   "source": [
    "4. Given an array which may contain duplicates, print all elements\n",
    "and their frequencies."
   ],
   "cell_type": "markdown",
   "metadata": {}
  },
  {
   "cell_type": "code",
   "execution_count": 60,
   "metadata": {},
   "outputs": [
    {
     "output_type": "stream",
     "name": "stdout",
     "text": [
      "1 occurs 2 times\n15 occurs 2 times\n10 occurs 2 times\n9 occurs 1 times\n6 occurs 2 times\n4 occurs 1 times\n25 occurs 2 times\n23 occurs 1 times\n8 occurs 1 times\n"
     ]
    }
   ],
   "source": [
    "given_array = [1, 1, 15, 10, 10, 15, 9, 6, 4, 25, 23, 25, 6, 8]\n",
    "unique_dict = {}\n",
    "ignore_array = []\n",
    "for i in given_array:\n",
    "    n = i\n",
    "    count = 0\n",
    "    if n in ignore_array:\n",
    "        continue\n",
    "    else:\n",
    "        for j in given_array:\n",
    "            if n == j:\n",
    "                count = count + 1\n",
    "        ignore_array.append(n)\n",
    "        unique_dict[i] = count\n",
    "\n",
    "for k in unique_dict:\n",
    "    print(k, \"occurs\", unique_dict[k], \"times\")"
   ]
  },
  {
   "source": [
    "5. Given a number n, write a function to print all prime factors of\n",
    "n. For example, if the input number is 12, then output should be\n",
    "“2 2 3”.\n"
   ],
   "cell_type": "markdown",
   "metadata": {}
  },
  {
   "cell_type": "code",
   "execution_count": null,
   "metadata": {},
   "outputs": [],
   "source": [
    "number = input(\"Enter a number : \")\n",
    "prime_factors  = []\n"
   ]
  },
  {
   "cell_type": "code",
   "execution_count": 3,
   "metadata": {},
   "outputs": [
    {
     "output_type": "execute_result",
     "data": {
      "text/plain": [
       "1"
      ]
     },
     "metadata": {},
     "execution_count": 3
    }
   ],
   "source": [
    "5%2"
   ]
  },
  {
   "source": [
    "6. Given two numbers n and r, find the value of nCr (binomial\n",
    "coefficient: nCr = (n!) / (r! * (n-r)!))\n"
   ],
   "cell_type": "markdown",
   "metadata": {}
  },
  {
   "cell_type": "code",
   "execution_count": 12,
   "metadata": {},
   "outputs": [
    {
     "output_type": "stream",
     "name": "stdout",
     "text": [
      "4950.0\n"
     ]
    }
   ],
   "source": [
    "n_factorial = 1\n",
    "r_factorial = 1\n",
    "nr_factorial = 1\n",
    "try:\n",
    "    n = int(input(\"Enter n : \"))\n",
    "    r = int(input(\"Enter r : \"))\n",
    "    n_r = n-r\n",
    "    if n > r:\n",
    "        if n != 0:\n",
    "            for i in range(1, n+1):\n",
    "                n_factorial = n_factorial*i\n",
    "            if r != 0:\n",
    "                for i in range(1, r+1):\n",
    "                    r_factorial = r_factorial*i\n",
    "            if (n-r) > 0:\n",
    "                for i in range(1, n-r+1):\n",
    "                    nr_factorial = nr_factorial*i\n",
    "            if (n-r) == 0:\n",
    "                nr_factorial = 1\n",
    "            binomial_coeff = n_factorial/(r_factorial*nr_factorial)\n",
    "            print(binomial_coeff)\n",
    "    else:\n",
    "        print(\"n should be larger than r.\")\n",
    "except:\n",
    "    print(\"Enter valid numbers\")\n"
   ]
  },
  {
   "source": [
    "7. Searching: Given a sorted array arr[] of n elements, write a\n",
    "function to search a given element x in arr[]. Do it using linear\n",
    "and binary search techniques.\n"
   ],
   "cell_type": "markdown",
   "metadata": {}
  },
  {
   "cell_type": "code",
   "execution_count": 28,
   "metadata": {},
   "outputs": [
    {
     "output_type": "stream",
     "name": "stdout",
     "text": [
      "Found 22 at 20 position\n"
     ]
    }
   ],
   "source": [
    "sorted_array = [1,1,1,2,2,3,3,3,5,6,8,9,12,12,15,16,19,19,21,22,26,29,32,34,54,55]\n",
    "def array_search_linear(a, n):\n",
    "    length = len(a)\n",
    "    j = 1\n",
    "    if n in a:\n",
    "        for i in a:\n",
    "            if i == n:\n",
    "                print(\"Found\" , n , \"at\" , j , \"position\")\n",
    "            j = j+1\n",
    "    else:\n",
    "        print(\"This number is not in the given array.\")\n",
    "n = int(input(\"Enter n :\"))\n",
    "array_search_linear(sorted_array, n)"
   ]
  },
  {
   "cell_type": "code",
   "execution_count": null,
   "metadata": {},
   "outputs": [],
   "source": [
    "sorted_array = [1,1,1,2,2,3,3,3,5,6,8,9,12,12,15,16,19,19,21,22,26,29,32,34,54,55]\n",
    "def array_search_binary(a,n):\n",
    "    length = len(a)\n",
    "    mid = 0\n",
    "    if length%2 == 0:\n",
    "        mid = (length/2) - 1\n",
    "    else:\n",
    "        mid = (length//2)\n",
    "    if n > a[mid]:\n",
    "        #something\n",
    "    else:\n",
    "        #something "
   ]
  },
  {
   "source": [
    "8. Input a text file (containing 1 or more paragraphs of English\n",
    "text) from the user, parse this file to display the frequency of\n",
    "occurrence of each word in this text file. Find the 3 most frequent\n",
    "words as well."
   ],
   "cell_type": "markdown",
   "metadata": {}
  }
 ]
}