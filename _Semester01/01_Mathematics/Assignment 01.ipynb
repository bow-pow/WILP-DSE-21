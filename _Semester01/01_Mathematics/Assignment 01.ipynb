{
 "metadata": {
  "language_info": {
   "codemirror_mode": {
    "name": "ipython",
    "version": 3
   },
   "file_extension": ".py",
   "mimetype": "text/x-python",
   "name": "python",
   "nbconvert_exporter": "python",
   "pygments_lexer": "ipython3",
   "version": "3.8.3"
  },
  "orig_nbformat": 2,
  "kernelspec": {
   "name": "python383jvsc74a57bd0a6c8cccf23fc189a51b8b2ae4ca3b98de763e12cce4f9033fe8d82721c91cecc",
   "display_name": "Python 3.8.3 64-bit ('base': conda)"
  }
 },
 "nbformat": 4,
 "nbformat_minor": 2,
 "cells": [
  {
   "source": [
    "# 01 Gauss Elimination with Pivoting"
   ],
   "cell_type": "markdown",
   "metadata": {}
  },
  {
   "cell_type": "code",
   "execution_count": 21,
   "metadata": {},
   "outputs": [],
   "source": [
    "import numpy as np\n",
    "import math\n",
    "from decimal import *"
   ]
  },
  {
   "cell_type": "code",
   "execution_count": 22,
   "metadata": {},
   "outputs": [
    {
     "output_type": "execute_result",
     "data": {
      "text/plain": [
       "array([[0.24836937, 0.12553841, 0.69173313],\n",
       "       [0.56901761, 0.13038817, 0.75507039]])"
      ]
     },
     "metadata": {},
     "execution_count": 22
    }
   ],
   "source": [
    "A = [[2,1,2,1,6], [0,-9,0,9,18], [0,1,-1,-5,-13], [0,1,-3,0,4]]\n",
    "Ar = np.random.rand(2, 3)\n",
    "B = [[10,-7,0,7],\n",
    "     [-3,2.099,6,3.901],\n",
    "     [5,-1,5,6]]\n",
    "Ar"
   ]
  },
  {
   "source": [
    "def setS(number, d):\n",
    "    if number == 0:\n",
    "        return 0;\n",
    "    else:\n",
    "        return round(number, d - int(math.floor(math.log10(abs(number)))) -1) "
   ],
   "cell_type": "code",
   "metadata": {},
   "execution_count": 23,
   "outputs": []
  },
  {
   "cell_type": "code",
   "execution_count": 30,
   "metadata": {},
   "outputs": [],
   "source": [
    "def gaussPivot2by2(b, d):\n",
    "    B = b.copy()\n",
    "    maxElement = B[0][0]\n",
    "    maxRow = 0\n",
    "\n",
    "    #Identify Pivot element\n",
    "    #print(\"Original Matrix is : \\n\", B)\n",
    "    for i in range(1, 2):\n",
    "        if abs(B[i][0]) > abs(maxElement):\n",
    "            maxElement = B[i][0]\n",
    "            maxRow = i\n",
    "    \n",
    "    #Switching rows\n",
    "    temp = []\n",
    "    temp.append(B[maxRow])\n",
    "    temp.append(B[abs(maxRow-1)])\n",
    "    B = temp\n",
    "    #print(\"Matrix after pivoting on Row: \",maxRow )\n",
    "    #print(B)\n",
    "    \n",
    "    ratio = setS(B[1][0]/B[0][0], d)\n",
    "    #print(\"Ratio is : \", ratio)\n",
    "    \n",
    "    #ForwardElimination\n",
    "    for i in range(0,3):\n",
    "        B[1][i] = setS(B[1][i], d) - setS(ratio*setS(B[0][i], d), d)\n",
    "    \n",
    "    #print(\"Reduced matrix is : \\n\", B)\n",
    "\n",
    "    #Back Elimination\n",
    "    x = [0,0]\n",
    "    x[1] = setS(B[1][2]/B[1][1], d)\n",
    "    x[0] = ( setS(B[0][2], d) - setS(setS(x[1]*B[0][1], d)/B[0][0], d) )\n",
    "    print(\"Singificant digits : \", d)\n",
    "    print(\"Solution is : X1 = \", x[0], \" , X2 = \", x[1])"
   ]
  },
  {
   "cell_type": "code",
   "execution_count": 31,
   "metadata": {},
   "outputs": [],
   "source": [
    "def gaussUnPivot2by2(b, d):\n",
    "    B = b.copy()\n",
    "    maxElement = B[0][0]\n",
    "    maxRow = 0\n",
    "    \n",
    "    \"\"\"\n",
    "    #Switching rows\n",
    "    temp = []\n",
    "    temp.append(B[maxRow])\n",
    "    temp.append(B[abs(maxRow-1)])\n",
    "    B = temp\n",
    "    print(\"Matrix after pivoting on Row: \",maxRow )\n",
    "    print(B)\n",
    "    \"\"\"\n",
    "    \n",
    "    ratio = setS(B[1][0]/B[0][0], d)\n",
    "    #print(\"Ratio is : \", ratio)\n",
    "    \n",
    "    #ForwardElimination\n",
    "    for i in range(0,3):\n",
    "        B[1][i] = setS(B[1][i], d) - setS(ratio*setS(B[0][i], d), d)\n",
    "    \n",
    "    #print(\"Reduced matrix is : \\n\", B)\n",
    "\n",
    "    #Back Elimination\n",
    "    x = [0,0]\n",
    "    x[1] = setS(B[1][2]/B[1][1], d)\n",
    "    x[0] = ( setS(B[0][2], d) - setS(setS(x[1]*B[0][1], d)/B[0][0], d) )\n",
    "    print(\"Singificant digits : \", d)\n",
    "    print(\"Solution is : X1 = \", x[0], \" , X2 = \", x[1])"
   ]
  },
  {
   "cell_type": "code",
   "execution_count": 35,
   "metadata": {},
   "outputs": [
    {
     "output_type": "stream",
     "name": "stdout",
     "text": [
      "Singificant digits :  15\nSolution is : X1 =  -0.45419031941310994  , X2 =  5.27724748000567\nSingificant digits :  4\nSolution is : X1 =  -0.45489999999999997  , X2 =  5.28\nSingificant digits :  5\nSolution is : X1 =  -0.45413000000000003  , X2 =  5.2772\n"
     ]
    }
   ],
   "source": [
    "gaussPivot2by2(Ar, 15)\n",
    "gaussPivot2by2(Ar, 4)\n",
    "gaussPivot2by2(Ar, 5)"
   ]
  },
  {
   "cell_type": "code",
   "execution_count": 33,
   "metadata": {},
   "outputs": [
    {
     "output_type": "stream",
     "name": "stdout",
     "text": [
      "Singificant digits :  3\nSolution is : X1 =  -1.938  , X2 =  5.19\nSingificant digits :  4\nSolution is : X1 =  -1.9783  , X2 =  5.283\nSingificant digits :  5\nSolution is : X1 =  -1.97577  , X2 =  5.2775\n"
     ]
    }
   ],
   "source": [
    "gaussUnPivot2by2(Ar, 3)\n",
    "gaussUnPivot2by2(Ar, 4)\n",
    "gaussUnPivot2by2(Ar, 5)"
   ]
  },
  {
   "cell_type": "code",
   "execution_count": null,
   "metadata": {},
   "outputs": [],
   "source": []
  }
 ]
}