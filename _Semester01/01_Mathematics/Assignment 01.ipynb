{
 "metadata": {
  "language_info": {
   "codemirror_mode": {
    "name": "ipython",
    "version": 3
   },
   "file_extension": ".py",
   "mimetype": "text/x-python",
   "name": "python",
   "nbconvert_exporter": "python",
   "pygments_lexer": "ipython3",
   "version": "3.8.5"
  },
  "orig_nbformat": 2,
  "kernelspec": {
   "name": "python385jvsc74a57bd0b3ba2566441a7c06988d0923437866b63cedc61552a5af99d1f4fb67d367b25f",
   "display_name": "Python 3.8.5 64-bit ('ProgramData': virtualenv)"
  }
 },
 "nbformat": 4,
 "nbformat_minor": 2,
 "cells": [
  {
   "source": [
    "# 01 Gauss Elimination with Pivoting"
   ],
   "cell_type": "markdown",
   "metadata": {}
  },
  {
   "cell_type": "code",
   "execution_count": 4,
   "metadata": {},
   "outputs": [],
   "source": [
    "import numpy as np"
   ]
  },
  {
   "cell_type": "code",
   "execution_count": 10,
   "metadata": {},
   "outputs": [
    {
     "output_type": "stream",
     "name": "stdout",
     "text": [
      "[[2, 1, 2, 1, 6], [0, -9, 0, 9, 18], [0, 1, -1, -5, -13], [0, 1, -3, 0, 4]]\n[[0.90189639 0.75345847 0.72373007]\n [0.20979644 0.26104719 0.51281534]]\n"
     ]
    }
   ],
   "source": [
    "A = [[2,1,2,1,6], [0,-9,0,9,18], [0,1,-1,-5,-13], [0,1,-3,0,4]]\n",
    "Ar = np.random.rand(2, 3)\n",
    "print(A)\n",
    "print(Ar)"
   ]
  },
  {
   "cell_type": "code",
   "execution_count": 12,
   "metadata": {},
   "outputs": [],
   "source": [
    "#1. Check if lengths match\n",
    "variablecount = 0\n",
    "if len(A) == 2 and len(A[0]) == 3 and len(A[1]) == 3:\n",
    "    unPivotedGaussElimination(A, 4)"
   ]
  },
  {
   "cell_type": "code",
   "execution_count": 16,
   "metadata": {},
   "outputs": [
    {
     "output_type": "stream",
     "name": "stdout",
     "text": [
      "Procedure unsuccessful, A is a singular matrix\nProcedure unsuccessful, A is a singular matrix\n\nRequired solution is: \nX0 = 2.00\tX1 = 1.00\tX2 = -1.00\tX3 = 3.00\t"
     ]
    }
   ],
   "source": [
    "unPivotedGaussElimination(A, 4)"
   ]
  },
  {
   "cell_type": "code",
   "execution_count": 15,
   "metadata": {},
   "outputs": [],
   "source": [
    "def unPivotedGaussElimination(A, d):\n",
    "    n = len(A)\n",
    "    # Check if A is a singular matrix\n",
    "    for a in A:\n",
    "        if a[0] == 0 and a[1] == 0:\n",
    "            print('Procedure unsuccessful, A is a singular matrix')\n",
    "    #Perform gauss elimination(Forward elimination)\n",
    "    for i in range(n):\n",
    "        for j in range(i+1, n):\n",
    "            r = A[j][i]/A[i][i]\n",
    "            for k in range(n+1):\n",
    "                A[j][k] = A[j][k] - r*A[i][k]\n",
    "    \n",
    "    x = [0,0,0,0]\n",
    "    x[n-1] = A[n-1][n]/A[n-1][n-1]\n",
    "\n",
    "    for i in range(n-2,-1,-1):\n",
    "        x[i] = A[i][n]\n",
    "    \n",
    "        for j in range(i+1,n):\n",
    "            x[i] = x[i] - A[i][j]*x[j]\n",
    "    \n",
    "        x[i] = x[i]/A[i][i]\n",
    "\n",
    "    # Displaying solution\n",
    "    print('\\nRequired solution is: ')\n",
    "    for i in range(n):\n",
    "        print('X%d = %0.2f' %(i,x[i]), end = '\\t')\n",
    "            "
   ]
  },
  {
   "source": [],
   "cell_type": "markdown",
   "metadata": {}
  }
 ]
}