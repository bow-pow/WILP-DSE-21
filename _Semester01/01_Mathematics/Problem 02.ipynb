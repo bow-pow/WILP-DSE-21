{
 "metadata": {
  "language_info": {
   "codemirror_mode": {
    "name": "ipython",
    "version": 3
   },
   "file_extension": ".py",
   "mimetype": "text/x-python",
   "name": "python",
   "nbconvert_exporter": "python",
   "pygments_lexer": "ipython3",
   "version": "3.8.5"
  },
  "orig_nbformat": 2,
  "kernelspec": {
   "name": "python385jvsc74a57bd0b3ba2566441a7c06988d0923437866b63cedc61552a5af99d1f4fb67d367b25f",
   "display_name": "Python 3.8.5 64-bit ('base': conda)"
  }
 },
 "nbformat": 4,
 "nbformat_minor": 2,
 "cells": [
  {
   "source": [
    "## Gauss Sidel\n",
    "Write a code to perform <br>\n",
    "a) Gauss Jacobi method<br>\n",
    "b) Gauss Seidel method<br>\n",
    "for a 3 x 3 system by checking the convergence criteria using a suitable norm.\n",
    "Test the method on a random 3 x 3 system, which is diagonally dominant\n",
    "and check your results.\n",
    "<br>\n",
    "A comparison between the two methods should be presented in tabular form. The stopping criteria could be taken as the lowest iteration number when the relative percentage error is less than 1%.\n",
    "\n",
    "Generate a random matrix of size 3 x 3 which cannot be made diagonally\n",
    "dominant and check if the iterates converge. The random entries generated\n",
    "should be of the form n.dddd"
   ],
   "cell_type": "markdown",
   "metadata": {}
  },
  {
   "cell_type": "code",
   "execution_count": 1,
   "metadata": {},
   "outputs": [],
   "source": [
    "import numpy as np"
   ]
  },
  {
   "cell_type": "code",
   "execution_count": 4,
   "metadata": {},
   "outputs": [],
   "source": [
    "#Select convergance criteria using a norm\n",
    "#create random diagonally dominant matrix\n",
    "#Test method on 3x3 matrix and diagonally dominat\n",
    "#check error percentage\n",
    "#make stopping criteria\n",
    "def gauss_seidel(A, b, tolerance=1e-10, max_iterations=10000):\n",
    "    \n",
    "    x = np.zeros_like(b, dtype=np.double)\n",
    "    \n",
    "    #Iterate\n",
    "    for k in range(max_iterations):\n",
    "        \n",
    "        x_old  = x.copy()\n",
    "        \n",
    "        #Loop over rows\n",
    "        for i in range(A.shape[0]):\n",
    "            x[i] = (b[i] - np.dot(A[i,:i], x[:i]) - np.dot(A[i,(i+1):], x_old[(i+1):])) / A[i ,i]\n",
    "            \n",
    "        #Stop condition \n",
    "        if np.linalg.norm(x - x_old, ord=np.inf) / np.linalg.norm(x, ord=np.inf) < tolerance:\n",
    "            break\n",
    "            \n",
    "    return x"
   ]
  },
  {
   "cell_type": "code",
   "execution_count": null,
   "metadata": {},
   "outputs": [],
   "source": []
  }
 ]
}