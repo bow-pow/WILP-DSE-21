{
 "cells": [
  {
   "cell_type": "markdown",
   "metadata": {},
   "source": [
    "<b>Q1)<b/> Write a code to perform Gauss elimination with and without pivoting for a 2 x 2 system, taking the number of significant digits (d) to be considered\n",
    "as user input. Using the code, solve the 2 x 2 system with random coefficients for d = 3, 4, 5 and 6. Display the results in a tabular form."
   ]
  },
  {
   "cell_type": "code",
   "execution_count": 102,
   "metadata": {},
   "outputs": [
    {
     "name": "stdout",
     "output_type": "stream",
     "text": [
      "Significant digits  3\n",
      "[[0.393 0.428 0.501]\n",
      " [0.159 0.747 0.649]]\n",
      "Result with pivot [0.42779101 0.77775265]\n",
      "Result without pivot [0.42779101 0.77775265]\n",
      "Significant digits  4\n",
      "[[0.3933 0.428  0.5014]\n",
      " [0.1589 0.747  0.6492]]\n",
      "Result with pivot [0.42822958 0.77798436]\n",
      "Result without pivot [0.42822958 0.77798436]\n",
      "Significant digits  5\n",
      "[[0.39327 0.42803 0.50144]\n",
      " [0.15893 0.74697 0.64917]]\n",
      "Result with pivot [0.42836421 0.7779296 ]\n",
      "Result without pivot [0.42836421 0.7779296 ]\n",
      "Significant digits  6\n",
      "[[0.393272 0.428033 0.501442]\n",
      " [0.158934 0.746971 0.649167]]\n",
      "Result with pivot [0.42837068 0.77792088]\n",
      "Result without pivot [0.42837068 0.77792088]\n"
     ]
    }
   ],
   "source": [
    "import numpy as np\n",
    "\n",
    "def elimination(matrix, row):\n",
    "#   get no of rows\n",
    "    n = matrix.shape[0]\n",
    "    for i in range(row + 1, n):\n",
    "        if (matrix[row][row] != 0):\n",
    "            fact = matrix[i][row] / matrix[row][row]\n",
    "            for j in range(i):\n",
    "                matrix[i][j] = 0\n",
    "            for j in range(i, n + 1):\n",
    "                matrix[i][j] = matrix[i][j] - fact * matrix[row][j]\n",
    "        \n",
    "def pivot(matrix, col):\n",
    "#   get no of rows\n",
    "    n = matrix.shape[0]\n",
    "    m = col\n",
    "    for i in range(col + 1, n):\n",
    "        if (abs(matrix[i][col]) > abs(matrix[m][col])):\n",
    "            m = i\n",
    "    if (col != m):\n",
    "        matrix[[col,m]] = matrix[[m,col]]\n",
    "        \n",
    "def back_substitution(matrix):\n",
    "#   get no of rows\n",
    "    n = matrix.shape[0]\n",
    "    res = np.zeros(n)\n",
    "    for i in range(n - 1, -1, -1):\n",
    "        total = 0.0\n",
    "        for j in range(n - 1, i, -1):\n",
    "            total += res[j] * matrix[i][j]\n",
    "        res[i] = (matrix[i][n] - total) / matrix[i][i]\n",
    "    return res\n",
    "\n",
    "n = 2 # int(input(\"Enter the size of matrix\\n\"))\n",
    "# for augmented matrix adding 1 extra column\n",
    "# setting random values\n",
    "m = np.random.rand(n, n + 1)\n",
    "# Running for significant digits 3, 4, 5, 6\n",
    "for s_d in range(3, 7):\n",
    "    print(\"Significant digits \", s_d)\n",
    "    matrix = np.zeros((n, n + 1))\n",
    "    for i in range(n):\n",
    "        for j in range(n + 1):\n",
    "#           rounding off to significant digits and assigning to matrix\n",
    "            matrix[i][j] = round(m[i][j], s_d)\n",
    "#   copying the matrix to perform pivot\n",
    "#   pivoting donde for matrix_cp and no pivoting for matrix\n",
    "    matrix_cp = matrix.copy()\n",
    "    print (matrix)\n",
    "\n",
    "    for i in range(n - 1):\n",
    "        elimination(matrix, i)\n",
    "        pivot(matrix_cp, i)\n",
    "        elimination(matrix_cp, i)\n",
    "\n",
    "    result_without_pivot = back_substitution(matrix)\n",
    "    result_with_pivot = back_substitution(matrix_cp)\n",
    "\n",
    "    print (\"Result with pivot\", result_with_pivot)\n",
    "    print (\"Result without pivot\", result_without_pivot)"
   ]
  },
  {
   "cell_type": "code",
   "execution_count": null,
   "metadata": {},
   "outputs": [],
   "source": []
  }
 ],
 "metadata": {
  "kernelspec": {
   "display_name": "Python 3",
   "language": "python",
   "name": "python3"
  },
  "language_info": {
   "codemirror_mode": {
    "name": "ipython",
    "version": 3
   },
   "file_extension": ".py",
   "mimetype": "text/x-python",
   "name": "python",
   "nbconvert_exporter": "python",
   "pygments_lexer": "ipython3",
   "version": "3.8.5"
  }
 },
 "nbformat": 4,
 "nbformat_minor": 4
}
